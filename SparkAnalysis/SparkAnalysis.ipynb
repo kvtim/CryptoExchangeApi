{
 "cells": [
  {
   "cell_type": "markdown",
   "metadata": {},
   "source": [
    "# A basic .NET for Apache Spark example"
   ]
  },
  {
   "cell_type": "markdown",
   "metadata": {},
   "source": [
    "## Preparation\n",
    "\n",
    "### Start the Backend in Debug mode\n",
    "\n",
    "**_Important_**: Before you run any cells in this example, please ensure that you have [started the .NET for Apache Spark DotnetBacken in Debug mode](01-start-spark-debug.ipynb)."
   ]
  },
  {
   "cell_type": "markdown",
   "metadata": {},
   "source": [
    "### Install the Microsoft.Spark NuGet package"
   ]
  },
  {
   "cell_type": "code",
   "execution_count": 1,
   "metadata": {
    "vscode": {
     "languageId": "csharp"
    }
   },
   "outputs": [
    {
     "data": {
      "text/html": [
       "\r\n",
       "<div>\r\n",
       "    <div id='dotnet-interactive-this-cell-95.Microsoft.DotNet.Interactive.Http.HttpPort' style='display: none'>\r\n",
       "        The below script needs to be able to find the current output cell; this is an easy method to get it.\r\n",
       "    </div>\r\n",
       "    <script type='text/javascript'>\r\n",
       "async function probeAddresses(probingAddresses) {\r\n",
       "    function timeout(ms, promise) {\r\n",
       "        return new Promise(function (resolve, reject) {\r\n",
       "            setTimeout(function () {\r\n",
       "                reject(new Error('timeout'))\r\n",
       "            }, ms)\r\n",
       "            promise.then(resolve, reject)\r\n",
       "        })\r\n",
       "    }\r\n",
       "\r\n",
       "    if (Array.isArray(probingAddresses)) {\r\n",
       "        for (let i = 0; i < probingAddresses.length; i++) {\r\n",
       "\r\n",
       "            let rootUrl = probingAddresses[i];\r\n",
       "\r\n",
       "            if (!rootUrl.endsWith('/')) {\r\n",
       "                rootUrl = `${rootUrl}/`;\r\n",
       "            }\r\n",
       "\r\n",
       "            try {\r\n",
       "                let response = await timeout(1000, fetch(`${rootUrl}discovery`, {\r\n",
       "                    method: 'POST',\r\n",
       "                    cache: 'no-cache',\r\n",
       "                    mode: 'cors',\r\n",
       "                    timeout: 1000,\r\n",
       "                    headers: {\r\n",
       "                        'Content-Type': 'text/plain'\r\n",
       "                    },\r\n",
       "                    body: probingAddresses[i]\r\n",
       "                }));\r\n",
       "\r\n",
       "                if (response.status == 200) {\r\n",
       "                    return rootUrl;\r\n",
       "                }\r\n",
       "            }\r\n",
       "            catch (e) { }\r\n",
       "        }\r\n",
       "    }\r\n",
       "}\r\n",
       "\r\n",
       "function loadDotnetInteractiveApi() {\r\n",
       "    probeAddresses([\"http://172.17.0.2:1000/\", \"http://127.0.0.1:1000/\"])\r\n",
       "        .then((root) => {\r\n",
       "        // use probing to find host url and api resources\r\n",
       "        // load interactive helpers and language services\r\n",
       "        let dotnetInteractiveRequire = require.config({\r\n",
       "        context: '95.Microsoft.DotNet.Interactive.Http.HttpPort',\r\n",
       "                paths:\r\n",
       "            {\r\n",
       "                'dotnet-interactive': `${root}resources`\r\n",
       "                }\r\n",
       "        }) || require;\r\n",
       "\r\n",
       "            window.dotnetInteractiveRequire = dotnetInteractiveRequire;\r\n",
       "\r\n",
       "            window.configureRequireFromExtension = function(extensionName, extensionCacheBuster) {\r\n",
       "                let paths = {};\r\n",
       "                paths[extensionName] = `${root}extensions/${extensionName}/resources/`;\r\n",
       "                \r\n",
       "                let internalRequire = require.config({\r\n",
       "                    context: extensionCacheBuster,\r\n",
       "                    paths: paths,\r\n",
       "                    urlArgs: `cacheBuster=${extensionCacheBuster}`\r\n",
       "                    }) || require;\r\n",
       "\r\n",
       "                return internalRequire\r\n",
       "            };\r\n",
       "        \r\n",
       "            dotnetInteractiveRequire([\r\n",
       "                    'dotnet-interactive/dotnet-interactive'\r\n",
       "                ],\r\n",
       "                function (dotnet) {\r\n",
       "                    dotnet.init(window);\r\n",
       "                },\r\n",
       "                function (error) {\r\n",
       "                    console.log(error);\r\n",
       "                }\r\n",
       "            );\r\n",
       "        })\r\n",
       "        .catch(error => {console.log(error);});\r\n",
       "    }\r\n",
       "\r\n",
       "// ensure `require` is available globally\r\n",
       "if ((typeof(require) !==  typeof(Function)) || (typeof(require.config) !== typeof(Function))) {\r\n",
       "    let require_script = document.createElement('script');\r\n",
       "    require_script.setAttribute('src', 'https://cdnjs.cloudflare.com/ajax/libs/require.js/2.3.6/require.min.js');\r\n",
       "    require_script.setAttribute('type', 'text/javascript');\r\n",
       "    \r\n",
       "    \r\n",
       "    require_script.onload = function() {\r\n",
       "        loadDotnetInteractiveApi();\r\n",
       "    };\r\n",
       "\r\n",
       "    document.getElementsByTagName('head')[0].appendChild(require_script);\r\n",
       "}\r\n",
       "else {\r\n",
       "    loadDotnetInteractiveApi();\r\n",
       "}\r\n",
       "\r\n",
       "    </script>\r\n",
       "</div>"
      ]
     },
     "metadata": {},
     "output_type": "display_data"
    },
    {
     "data": {
      "text/plain": [
       "Installed package Microsoft.Spark version 2.1.1"
      ]
     },
     "metadata": {},
     "output_type": "display_data"
    },
    {
     "data": {
      "text/markdown": [
       "Loading extensions from `Microsoft.Data.Analysis.Interactive.dll`"
      ]
     },
     "metadata": {},
     "output_type": "display_data"
    }
   ],
   "source": [
    "#r \"nuget: Microsoft.Spark,2.1.1\""
   ]
  },
  {
   "cell_type": "markdown",
   "metadata": {},
   "source": [
    "---\n",
    "\n",
    "## Coding\n",
    "\n",
    "### Create a new SparkSession\n",
    "The entry point to all .NET for Apache Spark functionality is a SparkSession. To create one, just use SparkSession.Builder():"
   ]
  },
  {
   "cell_type": "code",
   "execution_count": 2,
   "metadata": {
    "vscode": {
     "languageId": "csharp"
    }
   },
   "outputs": [
    {
     "name": "stdout",
     "output_type": "stream",
     "text": [
      "[2023-04-18T08:47:59.5780415Z] [0a7f366303c6] [Info] [ConfigurationService] Using port 5567 for connection.\n",
      "[2023-04-18T08:47:59.5806448Z] [0a7f366303c6] [Info] [JvmBridge] JvMBridge port is 5567\n",
      "[2023-04-18T08:47:59.5815110Z] [0a7f366303c6] [Info] [JvmBridge] The number of JVM backend thread is set to 10. The max number of concurrent sockets in JvmBridge is set to 7.\n"
     ]
    },
    {
     "data": {
      "text/html": [
       "<table><thead><tr><th>Reference</th><th>SparkContext</th><th>Catalog</th></tr></thead><tbody><tr><td><div class=\"dni-plaintext\">{ 5: Jvm: Microsoft.Spark.Interop.Ipc.JvmBridge }</div></td><td><div class=\"dni-plaintext\">{ Microsoft.Spark.SparkContext: Reference: { 6: Jvm: Microsoft.Spark.Interop.Ipc.JvmBridge }, DefaultParallelism: 1 }</div></td><td><div class=\"dni-plaintext\">{ Microsoft.Spark.Sql.Catalog.Catalog: Reference: { 8: Jvm: Microsoft.Spark.Interop.Ipc.JvmBridge } }</div></td></tr></tbody></table>"
      ]
     },
     "execution_count": 2,
     "metadata": {},
     "output_type": "execute_result"
    }
   ],
   "source": [
    "using Microsoft.Spark.Sql;\n",
    "using Microsoft.Spark.Sql.Types;\n",
    "using static Microsoft.Spark.Sql.Functions;\n",
    "\n",
    "var spark = SparkSession.Builder().GetOrCreate();"
   ]
  },
  {
   "cell_type": "markdown",
   "metadata": {},
   "source": [
    "### Create a new DataFrame\n",
    "There are multiple ways of creating new DataFrames. Most of the time you will read data from another source. For this basic example, we just define our DataFrame via the code below, however."
   ]
  },
  {
   "cell_type": "code",
   "execution_count": 17,
   "metadata": {},
   "outputs": [
    {
     "data": {
      "text/html": [
       "<table><thead><tr><th>Reference</th><th>SparkContext</th><th>Catalog</th></tr></thead><tbody><tr><td><div class=\"dni-plaintext\">{ 5: Jvm: Microsoft.Spark.Interop.Ipc.JvmBridge }</div></td><td><div class=\"dni-plaintext\">{ Microsoft.Spark.SparkContext: Reference: { 6: Jvm: Microsoft.Spark.Interop.Ipc.JvmBridge }, DefaultParallelism: 1 }</div></td><td><div class=\"dni-plaintext\">{ Microsoft.Spark.Sql.Catalog.Catalog: Reference: { 8: Jvm: Microsoft.Spark.Interop.Ipc.JvmBridge } }</div></td></tr></tbody></table>"
      ]
     },
     "execution_count": 17,
     "metadata": {},
     "output_type": "execute_result"
    }
   ],
   "source": [
    "spark"
   ]
  },
  {
   "cell_type": "code",
   "execution_count": null,
   "metadata": {},
   "outputs": [],
   "source": []
  },
  {
   "cell_type": "code",
   "execution_count": null,
   "metadata": {},
   "outputs": [],
   "source": [
    "public class CurrencyDimension\n",
    "{\n",
    "    public int Id { get; set; }\n",
    "    public decimal PriceInUSD { get; set; }\n",
    "    public DateTime? FromDate { get; set; } = DateTime.Now;\n",
    "    public DateTime? EndDate { get; set; }\n",
    "    public bool IsCurrent { get; set; }\n",
    "\n",
    "    public int CurrencyId { get; set; }\n",
    "    public Currency? Currency { get; set; }\n",
    "}"
   ]
  },
  {
   "cell_type": "markdown",
   "metadata": {},
   "source": [
    "#### Filling data"
   ]
  },
  {
   "cell_type": "code",
   "execution_count": 74,
   "metadata": {},
   "outputs": [],
   "source": [
    "static void FillData(int i, int id, Random random, List<GenericRow> data, int leftRange, int rightRange)\n",
    "{\n",
    "    DateTime fromDt = DateTime.Now;\n",
    "    DateTime endDt = fromDt.AddMinutes(random.Next(1, 59));\n",
    "        \n",
    "    int m = i + 10000;\n",
    "    \n",
    "    for (; i < m; i++)\n",
    "    {\n",
    "        data.Add(\n",
    "            new GenericRow(new object[] { \n",
    "            i, \n",
    "            (double)random.Next(leftRange, rightRange),\n",
    "            new Timestamp(fromDt),  \n",
    "            new Timestamp(endDt), \n",
    "            false,\n",
    "            id\n",
    "            }));\n",
    "        \n",
    "        fromDt = endDt;\n",
    "        endDt = fromDt.AddMinutes(random.Next(1, 59));\n",
    "    }\n",
    "\n",
    "    data.Add(\n",
    "        new GenericRow(new object[] { \n",
    "            m, \n",
    "            (double)random.Next(leftRange, rightRange),\n",
    "            new Timestamp(fromDt), \n",
    "            null,\n",
    "            true,\n",
    "            id\n",
    "            })\n",
    "    );\n",
    "}"
   ]
  },
  {
   "cell_type": "code",
   "execution_count": 95,
   "metadata": {},
   "outputs": [],
   "source": [
    "var data = new List<GenericRow>();\n",
    "Random random = new Random();\n",
    "\n",
    "FillData(1, 1, random, data, 20, 500);\n",
    "FillData(10002, 2, random, data, 150, 770);\n",
    "FillData(20003, 3, random, data, 50, 320);\n",
    "\n",
    "    "
   ]
  },
  {
   "cell_type": "code",
   "execution_count": 96,
   "metadata": {},
   "outputs": [
    {
     "name": "stdout",
     "output_type": "stream",
     "text": [
      "+---+----------+--------------------+--------------------+---------+----------+\n",
      "| Id|PriceInUSD|            FromDate|             EndDate|IsCurrent|CurrencyId|\n",
      "+---+----------+--------------------+--------------------+---------+----------+\n",
      "|  1|      64.0|2023-04-18 10:16:...|2023-04-18 10:45:...|    false|         1|\n",
      "|  2|     215.0|2023-04-18 10:45:...|2023-04-18 11:31:...|    false|         1|\n",
      "|  3|     134.0|2023-04-18 11:31:...|2023-04-18 12:20:...|    false|         1|\n",
      "|  4|      79.0|2023-04-18 12:20:...|2023-04-18 12:54:...|    false|         1|\n",
      "|  5|      90.0|2023-04-18 12:54:...|2023-04-18 13:34:...|    false|         1|\n",
      "|  6|      44.0|2023-04-18 13:34:...|2023-04-18 14:25:...|    false|         1|\n",
      "|  7|     364.0|2023-04-18 14:25:...|2023-04-18 15:06:...|    false|         1|\n",
      "|  8|     450.0|2023-04-18 15:06:...|2023-04-18 15:34:...|    false|         1|\n",
      "|  9|     238.0|2023-04-18 15:34:...|2023-04-18 15:54:...|    false|         1|\n",
      "| 10|     114.0|2023-04-18 15:54:...|2023-04-18 16:17:...|    false|         1|\n",
      "| 11|     331.0|2023-04-18 16:17:...|2023-04-18 17:07:...|    false|         1|\n",
      "| 12|     405.0|2023-04-18 17:07:...|2023-04-18 17:08:...|    false|         1|\n",
      "| 13|     258.0|2023-04-18 17:08:...|2023-04-18 17:37:...|    false|         1|\n",
      "| 14|     454.0|2023-04-18 17:37:...|2023-04-18 18:02:...|    false|         1|\n",
      "| 15|     303.0|2023-04-18 18:02:...|2023-04-18 18:39:...|    false|         1|\n",
      "| 16|     299.0|2023-04-18 18:39:...|2023-04-18 19:23:...|    false|         1|\n",
      "| 17|     363.0|2023-04-18 19:23:...|2023-04-18 19:47:...|    false|         1|\n",
      "| 18|     159.0|2023-04-18 19:47:...|2023-04-18 19:53:...|    false|         1|\n",
      "| 19|     376.0|2023-04-18 19:53:...|2023-04-18 20:46:...|    false|         1|\n",
      "| 20|     243.0|2023-04-18 20:46:...|2023-04-18 21:40:...|    false|         1|\n",
      "+---+----------+--------------------+--------------------+---------+----------+\n",
      "only showing top 20 rows\n",
      "\n"
     ]
    }
   ],
   "source": [
    "var schema = new StructType(new List<StructField>()\n",
    "    {\n",
    "        new StructField(\"Id\", new IntegerType()),\n",
    "        new StructField(\"PriceInUSD\", new DoubleType()),\n",
    "        new StructField(\"FromDate\", new TimestampType()),\n",
    "        new StructField(\"EndDate\", new TimestampType()),\n",
    "        new StructField(\"IsCurrent\", new BooleanType()),\n",
    "        new StructField(\"CurrencyId\", new IntegerType())\n",
    "    });\n",
    "\n",
    "DataFrame df = spark.CreateDataFrame(data, schema);\n",
    "\n",
    "df.Show();"
   ]
  },
  {
   "cell_type": "markdown",
   "metadata": {},
   "source": [
    "#### Show tail"
   ]
  },
  {
   "cell_type": "code",
   "execution_count": 45,
   "metadata": {},
   "outputs": [
    {
     "name": "stdout",
     "output_type": "stream",
     "text": [
      "+-----+----------+--------------------+--------------------+---------+----------+\n",
      "|   Id|PriceInUSD|            FromDate|             EndDate|IsCurrent|CurrencyId|\n",
      "+-----+----------+--------------------+--------------------+---------+----------+\n",
      "|30003|     200.0|2023-11-10 06:27:...|                null|     true|     30003|\n",
      "|30002|     139.0|2023-11-10 06:04:...|2023-11-10 06:27:...|    false|         3|\n",
      "|30001|     304.0|2023-11-10 05:36:...|2023-11-10 06:04:...|    false|         3|\n",
      "|30000|      87.0|2023-11-10 04:57:...|2023-11-10 05:36:...|    false|         3|\n",
      "|29999|     204.0|2023-11-10 04:39:...|2023-11-10 04:57:...|    false|         3|\n",
      "|29998|     237.0|2023-11-10 04:20:...|2023-11-10 04:39:...|    false|         3|\n",
      "|29997|      89.0|2023-11-10 03:25:...|2023-11-10 04:20:...|    false|         3|\n",
      "|29996|      86.0|2023-11-10 02:30:...|2023-11-10 03:25:...|    false|         3|\n",
      "|29995|     289.0|2023-11-10 01:36:...|2023-11-10 02:30:...|    false|         3|\n",
      "|29994|     243.0|2023-11-10 01:01:...|2023-11-10 01:36:...|    false|         3|\n",
      "|29993|     280.0|2023-11-10 00:07:...|2023-11-10 01:01:...|    false|         3|\n",
      "|29992|     313.0|2023-11-09 23:55:...|2023-11-10 00:07:...|    false|         3|\n",
      "|29991|     231.0|2023-11-09 23:14:...|2023-11-09 23:55:...|    false|         3|\n",
      "|29990|      99.0|2023-11-09 22:52:...|2023-11-09 23:14:...|    false|         3|\n",
      "|29989|      94.0|2023-11-09 22:22:...|2023-11-09 22:52:...|    false|         3|\n",
      "|29988|     113.0|2023-11-09 21:26:...|2023-11-09 22:22:...|    false|         3|\n",
      "|29987|     148.0|2023-11-09 20:32:...|2023-11-09 21:26:...|    false|         3|\n",
      "|29986|     282.0|2023-11-09 19:45:...|2023-11-09 20:32:...|    false|         3|\n",
      "|29985|     127.0|2023-11-09 19:15:...|2023-11-09 19:45:...|    false|         3|\n",
      "|29984|     304.0|2023-11-09 19:08:...|2023-11-09 19:15:...|    false|         3|\n",
      "+-----+----------+--------------------+--------------------+---------+----------+\n",
      "only showing top 20 rows\n",
      "\n"
     ]
    }
   ],
   "source": [
    "var tail = df.OrderBy(Col(\"Id\").Desc());\n",
    "tail.Show();"
   ]
  },
  {
   "cell_type": "markdown",
   "metadata": {},
   "source": [
    "#### Describe df"
   ]
  },
  {
   "cell_type": "code",
   "execution_count": 46,
   "metadata": {
    "vscode": {
     "languageId": "csharp"
    }
   },
   "outputs": [
    {
     "name": "stdout",
     "output_type": "stream",
     "text": [
      "+-------+-----------------+------------------+------------------+\n",
      "|summary|               Id|        PriceInUSD|        CurrencyId|\n",
      "+-------+-----------------+------------------+------------------+\n",
      "|  count|            30003|             30003|             30003|\n",
      "|   mean|          15002.0|  301.988401159884|    3.999800019998|\n",
      "| stddev|8661.264399612795|181.17385702051124|216.01286156815587|\n",
      "|    min|                1|              20.0|                 1|\n",
      "|    max|            30003|             769.0|             30003|\n",
      "+-------+-----------------+------------------+------------------+\n",
      "\n"
     ]
    }
   ],
   "source": [
    "df.Describe().Show();"
   ]
  },
  {
   "cell_type": "markdown",
   "metadata": {},
   "source": [
    "#### Function for calcutation different in $ and %"
   ]
  },
  {
   "cell_type": "code",
   "execution_count": 48,
   "metadata": {},
   "outputs": [],
   "source": [
    "static (double, double) CalculateDifferent(DataFrame price)\n",
    "{\n",
    "    var firstPrice = price.OrderBy(Col(\"FromDate\")).First();\n",
    "    var lastPrice = price.OrderBy(Col(\"FromDate\").Desc()).First();\n",
    "\n",
    "    var different = Math.Round(((double)lastPrice[1] - (double)firstPrice[1]), 5);\n",
    "    var percents = Math.Round((different / (double)firstPrice[1] * 100), 5);\n",
    "    return (different, percents);\n",
    "}"
   ]
  },
  {
   "cell_type": "markdown",
   "metadata": {},
   "source": [
    "#### Calculate different between first and last dates"
   ]
  },
  {
   "cell_type": "code",
   "execution_count": 49,
   "metadata": {
    "vscode": {
     "languageId": "csharp"
    }
   },
   "outputs": [
    {
     "name": "stdout",
     "output_type": "stream",
     "text": [
      "Currency 1 changed by 16 $ or 12.8 %\n"
     ]
    }
   ],
   "source": [
    "int currencyId = 1;\n",
    "\n",
    "var price = df\n",
    "    .Select(Col(\"CurrencyId\"), Col(\"PriceInUSD\"))\n",
    "    .Filter(Col(\"CurrencyId\") == currencyId);\n",
    "\n",
    "var (different, percents) =  CalculateDifferent(price);\n",
    "\n",
    "Console.WriteLine($\"Currency {currencyId} changed by \" +\n",
    "                  $\"{different} $ or {percents} %\");"
   ]
  },
  {
   "cell_type": "markdown",
   "metadata": {},
   "source": [
    "#### Calculate different between different dates"
   ]
  },
  {
   "cell_type": "code",
   "execution_count": 50,
   "metadata": {},
   "outputs": [
    {
     "name": "stdout",
     "output_type": "stream",
     "text": [
      "Currency 1 changed by -317 $ or -81.70103 %\n"
     ]
    }
   ],
   "source": [
    "int currencyId = 1;\n",
    "\n",
    "var fromDt = DateTime.Now;\n",
    "var endDt = DateTime.Now.AddDays(9);\n",
    "\n",
    "var price = df\n",
    "    .Select(Col(\"CurrencyId\"), Col(\"PriceInUSD\"), Col(\"FromDate\"), Col(\"EndDate\"))\n",
    "    .Filter((Col(\"CurrencyId\") == currencyId) & \n",
    "            (Col(\"FromDate\") >= new Timestamp(fromDt) & \n",
    "             Col(\"FromDate\") <= new Timestamp(endDt)));\n",
    "\n",
    "var (different, percents) =  CalculateDifferent(price);\n",
    "\n",
    "Console.WriteLine($\"Currency {currencyId} changed by \" +\n",
    "                  $\"{different} $ or {percents} %\");"
   ]
  },
  {
   "cell_type": "markdown",
   "metadata": {},
   "source": [
    "#### Show max price"
   ]
  },
  {
   "cell_type": "code",
   "execution_count": 52,
   "metadata": {
    "vscode": {
     "languageId": "csharp"
    }
   },
   "outputs": [
    {
     "name": "stdout",
     "output_type": "stream",
     "text": [
      "769\n"
     ]
    }
   ],
   "source": [
    "var max = df.Agg(Max(df.Col(\"PriceInUSD\"))).Head().Get(0);\n",
    "\n",
    "Console.WriteLine(max);"
   ]
  },
  {
   "cell_type": "markdown",
   "metadata": {},
   "source": [
    "#### Show aggregations by date with one currency"
   ]
  },
  {
   "cell_type": "code",
   "execution_count": 110,
   "metadata": {},
   "outputs": [],
   "source": [
    "var currencyId = 1;"
   ]
  },
  {
   "cell_type": "code",
   "execution_count": 81,
   "metadata": {
    "vscode": {
     "languageId": "csharp"
    }
   },
   "outputs": [
    {
     "name": "stdout",
     "output_type": "stream",
     "text": [
      "+----+-------------+---------+---------+----------+\n",
      "|Year|Average_price|Min_price|Max_price|CurrencyId|\n",
      "+----+-------------+---------+---------+----------+\n",
      "|2023|     259.3328|     20.0|    499.0|         1|\n",
      "+----+-------------+---------+---------+----------+\n",
      "\n"
     ]
    }
   ],
   "source": [
    "df\n",
    "    .Filter(Col(\"CurrencyId\") == currencyId)\n",
    "    .GroupBy(\n",
    "        Year(Col(\"FromDate\")).Alias(\"Year\"))\n",
    "    .Agg(\n",
    "        Avg(Col(\"PriceInUSD\")).Alias(\"Average_price\"),\n",
    "        Min(Col(\"PriceInUSD\")).Alias(\"Min_price\"),\n",
    "        Max(Col(\"PriceInUSD\")).Alias(\"Max_price\")\n",
    "    )\n",
    "    .WithColumn(\"CurrencyId\", Lit(currencyId))\n",
    "    .OrderBy(Col(\"Year\"))\n",
    "    .Show();\n"
   ]
  },
  {
   "cell_type": "code",
   "execution_count": 76,
   "metadata": {},
   "outputs": [
    {
     "name": "stdout",
     "output_type": "stream",
     "text": [
      "+----+-----+------------------+---------+---------+----------+\n",
      "|Year|Month|     Average_price|Min_price|Max_price|CurrencyId|\n",
      "+----+-----+------------------+---------+---------+----------+\n",
      "|2023|    4| 455.2464454976303|    150.0|    766.0|         2|\n",
      "|2023|    5|465.27450980392155|    150.0|    769.0|         2|\n",
      "|2023|    6| 464.8255261371351|    150.0|    769.0|         2|\n",
      "|2023|    7|455.38625750500336|    151.0|    769.0|         2|\n",
      "|2023|    8|462.57849031396125|    150.0|    769.0|         2|\n",
      "|2023|    9| 467.7481073640743|    150.0|    769.0|         2|\n",
      "|2023|   10|459.53698811096433|    150.0|    769.0|         2|\n",
      "|2023|   11|456.68827930174564|    151.0|    766.0|         2|\n",
      "+----+-----+------------------+---------+---------+----------+\n",
      "\n"
     ]
    }
   ],
   "source": [
    "df\n",
    "    .Filter(Col(\"CurrencyId\") == currencyId)\n",
    "    .GroupBy(\n",
    "        Year(Col(\"FromDate\")).Alias(\"Year\"),\n",
    "        Month(Col(\"FromDate\")).Alias(\"Month\"))\n",
    "    .Agg(\n",
    "        Avg(Col(\"PriceInUSD\")).Alias(\"Average_price\"),\n",
    "        Min(Col(\"PriceInUSD\")).Alias(\"Min_price\"),\n",
    "        Max(Col(\"PriceInUSD\")).Alias(\"Max_price\")\n",
    "    )\n",
    "    .WithColumn(\"CurrencyId\", Lit(currencyId))\n",
    "    .OrderBy(Col(\"Year\"), Col(\"Month\"))\n",
    "    .Show();"
   ]
  },
  {
   "cell_type": "code",
   "execution_count": 92,
   "metadata": {},
   "outputs": [
    {
     "name": "stdout",
     "output_type": "stream",
     "text": [
      "+----+-----+----+------------------+---------+---------+----------+\n",
      "|Year|Month|Days|     Average_price|Min_price|Max_price|CurrencyId|\n",
      "+----+-----+----+------------------+---------+---------+----------+\n",
      "|2023|    4|  18| 443.7647058823529|    187.0|    764.0|         2|\n",
      "|2023|    4|  19| 451.8333333333333|    162.0|    766.0|         2|\n",
      "|2023|    4|  20|           490.125|    154.0|    763.0|         2|\n",
      "|2023|    4|  21|            425.28|    152.0|    760.0|         2|\n",
      "|2023|    4|  22|458.72549019607845|    160.0|    760.0|         2|\n",
      "|2023|    4|  23| 458.9166666666667|    166.0|    766.0|         2|\n",
      "|2023|    4|  24| 424.6666666666667|    155.0|    758.0|         2|\n",
      "|2023|    4|  25| 484.7962962962963|    150.0|    760.0|         2|\n",
      "|2023|    4|  26|457.19565217391306|    157.0|    737.0|         2|\n",
      "|2023|    4|  27|428.05172413793105|    151.0|    749.0|         2|\n",
      "|2023|    4|  28|          441.0625|    151.0|    752.0|         2|\n",
      "|2023|    4|  29|468.45283018867923|    150.0|    766.0|         2|\n",
      "|2023|    4|  30|            483.98|    165.0|    765.0|         2|\n",
      "|2023|    5|   1| 479.8936170212766|    178.0|    764.0|         2|\n",
      "|2023|    5|   2|  478.280701754386|    154.0|    764.0|         2|\n",
      "|2023|    5|   3|462.57142857142856|    199.0|    766.0|         2|\n",
      "|2023|    5|   4|495.07272727272726|    166.0|    768.0|         2|\n",
      "|2023|    5|   5| 469.6458333333333|    162.0|    737.0|         2|\n",
      "|2023|    5|   6|457.74545454545455|    158.0|    750.0|         2|\n",
      "|2023|    5|   7| 430.9574468085106|    160.0|    766.0|         2|\n",
      "+----+-----+----+------------------+---------+---------+----------+\n",
      "only showing top 20 rows\n",
      "\n"
     ]
    }
   ],
   "source": [
    "df\n",
    "    .Filter(Col(\"CurrencyId\") == currencyId)\n",
    "    .GroupBy(\n",
    "        Year(Col(\"FromDate\")).Alias(\"Year\"),\n",
    "        Month(Col(\"FromDate\")).Alias(\"Month\"),\n",
    "        DayOfMonth(Col(\"FromDate\")).Alias(\"Days\"))\n",
    "    .Agg(\n",
    "        Avg(Col(\"PriceInUSD\")).Alias(\"Average_price\"),\n",
    "        Min(Col(\"PriceInUSD\")).Alias(\"Min_price\"),\n",
    "        Max(Col(\"PriceInUSD\")).Alias(\"Max_price\")\n",
    "    )\n",
    "    .WithColumn(\"CurrencyId\", Lit(currencyId))\n",
    "    .OrderBy(Col(\"Year\"), Col(\"Month\"), Col(\"Days\"))\n",
    "    .Show();"
   ]
  },
  {
   "cell_type": "markdown",
   "metadata": {},
   "source": [
    "#### Show aggregations by currency and date"
   ]
  },
  {
   "cell_type": "code",
   "execution_count": 102,
   "metadata": {},
   "outputs": [
    {
     "name": "stdout",
     "output_type": "stream",
     "text": [
      "+----------+-----------------+---------+---------+\n",
      "|CurrencyId|    Average_price|Min_price|Max_price|\n",
      "+----------+-----------------+---------+---------+\n",
      "|         1|260.2693730626937|     20.0|    499.0|\n",
      "|         2|459.7851214878512|    150.0|    769.0|\n",
      "|         3| 185.012798720128|     50.0|    319.0|\n",
      "+----------+-----------------+---------+---------+\n",
      "\n"
     ]
    }
   ],
   "source": [
    "df\n",
    "    .GroupBy(\n",
    "        Col(\"CurrencyId\"))\n",
    "    .Agg(\n",
    "        Avg(Col(\"PriceInUSD\")).Alias(\"Average_price\"),\n",
    "        Min(Col(\"PriceInUSD\")).Alias(\"Min_price\"),\n",
    "        Max(Col(\"PriceInUSD\")).Alias(\"Max_price\")\n",
    "    )\n",
    "    .OrderBy(Col(\"CurrencyId\"))\n",
    "    .Show();"
   ]
  },
  {
   "cell_type": "code",
   "execution_count": 103,
   "metadata": {},
   "outputs": [
    {
     "name": "stdout",
     "output_type": "stream",
     "text": [
      "+----------+----+-----------------+---------+---------+\n",
      "|CurrencyId|Year|    Average_price|Min_price|Max_price|\n",
      "+----------+----+-----------------+---------+---------+\n",
      "|         1|2023|260.2693730626937|     20.0|    499.0|\n",
      "|         2|2023|459.7851214878512|    150.0|    769.0|\n",
      "|         3|2023| 185.012798720128|     50.0|    319.0|\n",
      "+----------+----+-----------------+---------+---------+\n",
      "\n"
     ]
    }
   ],
   "source": [
    "df\n",
    "    .GroupBy(\n",
    "        Col(\"CurrencyId\"),\n",
    "        Year(Col(\"FromDate\")).Alias(\"Year\"))\n",
    "    .Agg(\n",
    "        Avg(Col(\"PriceInUSD\")).Alias(\"Average_price\"),\n",
    "        Min(Col(\"PriceInUSD\")).Alias(\"Min_price\"),\n",
    "        Max(Col(\"PriceInUSD\")).Alias(\"Max_price\")\n",
    "    )\n",
    "    .OrderBy(Col(\"CurrencyId\"), Col(\"Year\"))\n",
    "    .Show();"
   ]
  },
  {
   "cell_type": "code",
   "execution_count": 107,
   "metadata": {},
   "outputs": [
    {
     "name": "stdout",
     "output_type": "stream",
     "text": [
      "+----------+----+-----+------------------+---------+---------+\n",
      "|CurrencyId|Year|Month|     Average_price|Min_price|Max_price|\n",
      "+----------+----+-----+------------------+---------+---------+\n",
      "|         1|2023|    4| 259.2920065252855|     20.0|    499.0|\n",
      "|         1|2023|    5|260.88778220451525|     20.0|    499.0|\n",
      "|         1|2023|    6|255.27546138072455|     20.0|    499.0|\n",
      "|         1|2023|    7|271.46948356807513|     20.0|    499.0|\n",
      "|         1|2023|    8|254.55984042553192|     20.0|    499.0|\n",
      "|         1|2023|    9| 258.6885934219734|     20.0|    499.0|\n",
      "|         1|2023|   10| 260.5767230169051|     20.0|    499.0|\n",
      "|         1|2023|   11| 261.6870897155361|     21.0|    496.0|\n",
      "|         2|2023|    4|451.85342019543975|    150.0|    769.0|\n",
      "|         2|2023|    5| 463.8925566343042|    150.0|    769.0|\n",
      "|         2|2023|    6| 462.6224489795918|    150.0|    769.0|\n",
      "|         2|2023|    7| 454.8009049773756|    150.0|    769.0|\n",
      "|         2|2023|    8| 460.9437830687831|    150.0|    769.0|\n",
      "|         2|2023|    9| 459.0829817158931|    150.0|    769.0|\n",
      "|         2|2023|   10| 460.7754966887417|    150.0|    769.0|\n",
      "|         2|2023|   11| 459.2992125984252|    151.0|    769.0|\n",
      "|         3|2023|    4|185.63131313131314|     50.0|    319.0|\n",
      "|         3|2023|    5|185.82019543973942|     50.0|    319.0|\n",
      "|         3|2023|    6|186.51626297577855|     50.0|    319.0|\n",
      "|         3|2023|    7|184.97070572569908|     50.0|    319.0|\n",
      "+----------+----+-----+------------------+---------+---------+\n",
      "only showing top 20 rows\n",
      "\n"
     ]
    }
   ],
   "source": [
    "df\n",
    "    .GroupBy(\n",
    "        Col(\"CurrencyId\"),\n",
    "        Year(Col(\"FromDate\")).Alias(\"Year\"),\n",
    "        Month(Col(\"FromDate\")).Alias(\"Month\"))\n",
    "    .Agg(\n",
    "        Avg(Col(\"PriceInUSD\")).Alias(\"Average_price\"),\n",
    "        Min(Col(\"PriceInUSD\")).Alias(\"Min_price\"),\n",
    "        Max(Col(\"PriceInUSD\")).Alias(\"Max_price\")\n",
    "    )\n",
    "    .OrderBy(Col(\"CurrencyId\"), Col(\"Year\"), Col(\"Month\"))\n",
    "    .Show();"
   ]
  },
  {
   "cell_type": "code",
   "execution_count": 108,
   "metadata": {},
   "outputs": [
    {
     "name": "stdout",
     "output_type": "stream",
     "text": [
      "+----------+----+-----+----+------------------+---------+---------+\n",
      "|CurrencyId|Year|Month|Days|     Average_price|Min_price|Max_price|\n",
      "+----------+----+-----+----+------------------+---------+---------+\n",
      "|         1|2023|    4|  18|236.46153846153845|     21.0|    454.0|\n",
      "|         1|2023|    4|  19|265.40425531914894|     40.0|    499.0|\n",
      "|         1|2023|    4|  20| 277.6938775510204|     20.0|    487.0|\n",
      "|         1|2023|    4|  21|245.46808510638297|     41.0|    494.0|\n",
      "|         1|2023|    4|  22|258.29787234042556|     20.0|    491.0|\n",
      "|         1|2023|    4|  23| 285.0192307692308|     24.0|    489.0|\n",
      "|         1|2023|    4|  24|277.45283018867923|     31.0|    494.0|\n",
      "|         1|2023|    4|  25|230.93333333333334|     25.0|    471.0|\n",
      "|         1|2023|    4|  26| 253.2888888888889|     38.0|    499.0|\n",
      "|         1|2023|    4|  27|254.85185185185185|     53.0|    452.0|\n",
      "|         1|2023|    4|  28| 263.0192307692308|     33.0|    493.0|\n",
      "|         1|2023|    4|  29|           258.425|     21.0|    494.0|\n",
      "|         1|2023|    4|  30|249.07142857142858|     29.0|    499.0|\n",
      "|         1|2023|    5|   1| 252.6888888888889|     34.0|    499.0|\n",
      "|         1|2023|    5|   2|258.70588235294116|     30.0|    485.0|\n",
      "|         1|2023|    5|   3|241.83673469387756|     28.0|    487.0|\n",
      "|         1|2023|    5|   4| 290.3636363636364|     35.0|    498.0|\n",
      "|         1|2023|    5|   5| 247.2093023255814|     32.0|    488.0|\n",
      "|         1|2023|    5|   6|269.29411764705884|     22.0|    490.0|\n",
      "|         1|2023|    5|   7| 283.1914893617021|     39.0|    494.0|\n",
      "+----------+----+-----+----+------------------+---------+---------+\n",
      "only showing top 20 rows\n",
      "\n"
     ]
    }
   ],
   "source": [
    "df\n",
    "    .GroupBy(\n",
    "        Col(\"CurrencyId\"),\n",
    "        Year(Col(\"FromDate\")).Alias(\"Year\"),\n",
    "        Month(Col(\"FromDate\")).Alias(\"Month\"),\n",
    "        DayOfMonth(Col(\"FromDate\")).Alias(\"Days\"))\n",
    "    .Agg(\n",
    "        Avg(Col(\"PriceInUSD\")).Alias(\"Average_price\"),\n",
    "        Min(Col(\"PriceInUSD\")).Alias(\"Min_price\"),\n",
    "        Max(Col(\"PriceInUSD\")).Alias(\"Max_price\")\n",
    "    )\n",
    "    .OrderBy(Col(\"CurrencyId\"), Col(\"Year\"), Col(\"Month\"), Col(\"Days\"))\n",
    "    .Show();"
   ]
  },
  {
   "cell_type": "markdown",
   "metadata": {},
   "source": [
    "### Cleanup\n",
    "Stop your spark session, once you are done."
   ]
  },
  {
   "cell_type": "code",
   "execution_count": null,
   "metadata": {
    "vscode": {
     "languageId": "csharp"
    }
   },
   "outputs": [],
   "source": [
    "spark.Stop();"
   ]
  }
 ],
 "metadata": {
  "kernelspec": {
   "display_name": ".NET (C#)",
   "language": "C#",
   "name": ".net-csharp"
  },
  "language_info": {
   "file_extension": ".cs",
   "mimetype": "text/x-csharp",
   "name": "C#",
   "pygments_lexer": "csharp",
   "version": "9.0"
  }
 },
 "nbformat": 4,
 "nbformat_minor": 4
}
